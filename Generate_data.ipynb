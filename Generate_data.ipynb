{
  "nbformat": 4,
  "nbformat_minor": 0,
  "metadata": {
    "colab": {
      "provenance": [],
      "authorship_tag": "ABX9TyPQmNGB4BZ5Qe84iR+IHBE8",
      "include_colab_link": true
    },
    "kernelspec": {
      "name": "python3",
      "display_name": "Python 3"
    },
    "language_info": {
      "name": "python"
    }
  },
  "cells": [
    {
      "cell_type": "markdown",
      "metadata": {
        "id": "view-in-github",
        "colab_type": "text"
      },
      "source": [
        "<a href=\"https://colab.research.google.com/github/AyishND/TDC_Work/blob/main/Generate_data.ipynb\" target=\"_parent\"><img src=\"https://colab.research.google.com/assets/colab-badge.svg\" alt=\"Open In Colab\"/></a>"
      ]
    },
    {
      "cell_type": "markdown",
      "source": [
        "# **Python script to Generate data**"
      ],
      "metadata": {
        "id": "HYN_CV_AXCGJ"
      }
    },
    {
      "cell_type": "code",
      "execution_count": null,
      "metadata": {
        "id": "FF8eYdOZRTOP"
      },
      "outputs": [],
      "source": [
        "from faker import Faker\n",
        "import pandas as pd\n",
        "import random"
      ]
    },
    {
      "cell_type": "code",
      "source": [
        "fake = Faker()\n",
        "\n",
        "NUM_DRIVERS = 100\n",
        "NUM_VEHICLES = 100\n",
        "NUM_OWNERS = 20\n",
        "NUM_PASSENGERS = 400\n",
        "NUM_USERS = 620"
      ],
      "metadata": {
        "id": "src4y4Yy5g5l"
      },
      "execution_count": null,
      "outputs": []
    },
    {
      "cell_type": "code",
      "source": [
        "owners = []\n",
        "for i in range(1, NUM_OWNERS + 1):\n",
        "    owner_id = f'O{i:03d}'\n",
        "    owners.append({\n",
        "        'id': owner_id,\n",
        "        'name': fake.name(),\n",
        "        'email': fake.email(),\n",
        "        'phone': fake.phone_number(),\n",
        "        'address': fake.address(),\n",
        "        'cnic_front': fake.ssn(),\n",
        "        'cnic_back': fake.ssn(),\n",
        "        'owned_vehicles': ','.join([f'V{random.randint(1, 100):03d}' for _ in range(random.randint(1, 5))])\n",
        "    })\n"
      ],
      "metadata": {
        "id": "4dO65pJQA7Rh"
      },
      "execution_count": null,
      "outputs": []
    },
    {
      "cell_type": "markdown",
      "source": [
        "\n",
        "\n",
        "---\n",
        "\n"
      ],
      "metadata": {
        "id": "Lhl6nl-3EMUq"
      }
    },
    {
      "cell_type": "code",
      "source": [
        "\n",
        "passengers = []\n",
        "for i in range(1, NUM_PASSENGERS + 1):\n",
        "    passenger_id = f'P{i:03d}'\n",
        "    passengers.append({\n",
        "        'id': passenger_id,\n",
        "        'name': fake.name(),\n",
        "        'email': fake.email(),\n",
        "        'phone': fake.phone_number(),\n",
        "        'password': fake.password(),\n",
        "        'address': fake.address(),\n",
        "        'ride_history': ','.join([f'T{random.randint(1, 200):03d}' for _ in range(random.randint(1, 5))]),\n",
        "        'common_locations': ','.join([f'({fake.latitude()}, {fake.longitude()})' for _ in range(random.randint(1, 3))]),\n",
        "        'payment_info': fake.credit_card_number(),\n",
        "        'typeofpassenger': random.choice(['job', 'student', 'medical'])\n",
        "    })"
      ],
      "metadata": {
        "id": "I8QNSgI2A_th"
      },
      "execution_count": null,
      "outputs": []
    },
    {
      "cell_type": "markdown",
      "source": [
        "\n",
        "\n",
        "---\n",
        "\n"
      ],
      "metadata": {
        "id": "QOjGIbUUEJdY"
      }
    },
    {
      "cell_type": "code",
      "source": [
        "users = []\n",
        "for i in range(1, NUM_USERS + 1):\n",
        "    user_id = f'U{i:03d}'\n",
        "    users.append({\n",
        "        'id': user_id,\n",
        "        'name': fake.name(),\n",
        "        'address': fake.address(),\n",
        "        'email': fake.email(),\n",
        "        'phone no': fake.phone_number(),\n",
        "        'cnic_front': fake.ssn(),\n",
        "        'cnic_back': fake.ssn(),\n",
        "        'password': fake.password(),\n",
        "        'user type': random.choice(['admin', 'driver', 'passenger'])\n",
        "    })\n"
      ],
      "metadata": {
        "id": "JZOjpnVbBD-Q"
      },
      "execution_count": null,
      "outputs": []
    },
    {
      "cell_type": "markdown",
      "source": [
        "\n",
        "\n",
        "---\n",
        "\n"
      ],
      "metadata": {
        "id": "g9PoKPqHEIvF"
      }
    },
    {
      "cell_type": "code",
      "source": [
        "\n",
        "drivers = []\n",
        "for i in range(1, NUM_DRIVERS + 1):\n",
        "    driver_id = f'D{i:03d}'\n",
        "    drivers.append({\n",
        "        'id': driver_id,\n",
        "        'name': fake.name(),\n",
        "        'email': fake.email(),\n",
        "        'phone': fake.phone_number(),\n",
        "        'address': fake.address(),\n",
        "        'license_number': fake.license_plate(),\n",
        "        'rating': round(random.uniform(3.0, 5.0), 1),\n",
        "        'trip_history': ','.join([f'T{random.randint(1, 200):03d}' for _ in range(random.randint(1, 5))]),\n",
        "        'acceptance_rate': round(random.uniform(50, 100), 1)\n",
        "    })"
      ],
      "metadata": {
        "id": "qphuwbyCBIho"
      },
      "execution_count": null,
      "outputs": []
    },
    {
      "cell_type": "markdown",
      "source": [
        "\n",
        "\n",
        "---\n",
        "\n"
      ],
      "metadata": {
        "id": "VKKcX7xEEHJp"
      }
    },
    {
      "cell_type": "code",
      "source": [
        "vehicles = []\n",
        "for i in range(1, NUM_VEHICLES + 1):\n",
        "    vehicle_id = f'V{i:03d}'\n",
        "    driver_id = f'D{random.randint(1, NUM_DRIVERS):03d}'\n",
        "    owner_id = f'O{random.randint(1, NUM_OWNERS):03d}'\n",
        "    vehicle_type = random.choice(['Car', 'Bus'])\n",
        "\n",
        "    if vehicle_type == 'Car':\n",
        "        total_seats = random.randint(2, 5)\n",
        "        engine_type = random.choice(['Petrol', 'Diesel', 'Electric', 'Hybrid'])\n",
        "        capacity = random.randint(1000, 2000)  # in kg\n",
        "    else:  # Bus\n",
        "        total_seats = random.randint(20, 50)\n",
        "        engine_type = random.choice(['Diesel', 'Electric'])\n",
        "        capacity = random.randint(5000, 10000)  # in kg\n",
        "\n",
        "    vehicles.append({\n",
        "        'id': vehicle_id,\n",
        "        'driver_id': driver_id,\n",
        "        'owner_id': owner_id,\n",
        "        'license_plate': fake.license_plate(),\n",
        "        'model': fake.word(),\n",
        "        'year': fake.year(),\n",
        "        'capacity': capacity,\n",
        "        'type': vehicle_type,\n",
        "        'color': fake.color_name(),\n",
        "        'insurance_expiry_date': fake.date_between(start_date='-3y', end_date='+1y'),\n",
        "        'last_serviced_date': fake.date_between(start_date='-1y', end_date='today'),\n",
        "        'status': random.choice(['active', 'inactive']),\n",
        "        'total_seats': total_seats,\n",
        "        'engine_type': engine_type,\n",
        "        'fuel_type': random.choice(['Petrol', 'Diesel', 'Electric']),\n",
        "    })\n"
      ],
      "metadata": {
        "id": "Bz_OezEQBL34"
      },
      "execution_count": null,
      "outputs": []
    },
    {
      "cell_type": "markdown",
      "source": [
        "\n",
        "\n",
        "---\n",
        "\n"
      ],
      "metadata": {
        "id": "CRe_BrRfDyuK"
      }
    },
    {
      "cell_type": "code",
      "source": [
        "df_drivers = pd.DataFrame(drivers)\n",
        "df_vehicles = pd.DataFrame(vehicles)\n",
        "df_owners = pd.DataFrame(owners)\n",
        "df_passengers = pd.DataFrame(passengers)\n",
        "df_users = pd.DataFrame(users)\n",
        "\n",
        "df_drivers.to_csv('/content/Humsafar_Data/drivers.csv', index=False)\n",
        "df_vehicles.to_csv('/content/Humsafar_Data/vehicles.csv', index=False)\n",
        "df_owners.to_csv('/content/Humsafar_Data/owners.csv', index=False)\n",
        "df_passengers.to_csv('/content/Humsafar_Data/passengers.csv', index=False)\n",
        "df_users.to_csv('/content/Humsafar_Data/users.csv', index=False)\n",
        "\n",
        "print(\"Drivers and vehicles data generated and saved to CSV files.\")"
      ],
      "metadata": {
        "colab": {
          "base_uri": "https://localhost:8080/"
        },
        "id": "N94skSNGBQmP",
        "outputId": "6d0ff958-8473-47bd-e252-4e0f033814c0"
      },
      "execution_count": null,
      "outputs": [
        {
          "output_type": "stream",
          "name": "stdout",
          "text": [
            "Drivers and vehicles data generated and saved to CSV files.\n"
          ]
        }
      ]
    }
  ]
}